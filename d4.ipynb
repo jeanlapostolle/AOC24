{
 "cells": [
  {
   "cell_type": "code",
   "execution_count": 116,
   "metadata": {},
   "outputs": [],
   "source": [
    "import numpy as np\n",
    "\n",
    "with open(\"data/d4.txt\") as f:\n",
    "    data = f.readlines()\n",
    "\n",
    "data = map(lambda x : list(x.strip()), data)\n",
    "data = np.array(list(data))"
   ]
  },
  {
   "cell_type": "code",
   "execution_count": 117,
   "metadata": {},
   "outputs": [],
   "source": [
    "def count_xmas(matrix):\n",
    "    nb_xmas = 0\n",
    "    for row in matrix:\n",
    "        row_str = \"\".join(row)\n",
    "        nb_xmas += row_str.count(\"XMAS\")\n",
    "        nb_xmas += row_str.count(\"SAMX\")\n",
    "    return nb_xmas"
   ]
  },
  {
   "cell_type": "code",
   "execution_count": 118,
   "metadata": {},
   "outputs": [],
   "source": [
    "def diagonales_principales(matrix):\n",
    "    matrice = np.array(matrix)\n",
    "    n, m = matrice.shape\n",
    "    diagonales = []\n",
    "\n",
    "    for offset in range(-n + 1, m):\n",
    "        diagonales.append(matrice.diagonal(offset).tolist())\n",
    "\n",
    "    return diagonales"
   ]
  },
  {
   "cell_type": "code",
   "execution_count": 119,
   "metadata": {},
   "outputs": [
    {
     "data": {
      "text/plain": [
       "2534"
      ]
     },
     "execution_count": 119,
     "metadata": {},
     "output_type": "execute_result"
    }
   ],
   "source": [
    "total = count_xmas(data)\n",
    "\n",
    "t_data = data.transpose()\n",
    "total += count_xmas(t_data)\n",
    "\n",
    "d_data = diagonales_principales(data)\n",
    "total += count_xmas(d_data)\n",
    "\n",
    "f_data = np.flipud(data)\n",
    "fd_data = diagonales_principales(f_data)\n",
    "total += count_xmas(fd_data)\n",
    "\n",
    "total\n"
   ]
  },
  {
   "cell_type": "code",
   "execution_count": 120,
   "metadata": {},
   "outputs": [
    {
     "data": {
      "text/plain": [
       "1866"
      ]
     },
     "execution_count": 120,
     "metadata": {},
     "output_type": "execute_result"
    }
   ],
   "source": [
    "n, m = data.shape\n",
    "\n",
    "total = 0\n",
    "for i in range(1, n-1):\n",
    "    for j in range(1, m-1):\n",
    "        if data[i,j] == 'A':\n",
    "            if data[i-1,j-1] == 'M' and data[i+1,j+1] == 'S' and data[i-1,j+1] == 'M' and data[i+1,j-1] == 'S':\n",
    "                total += 1\n",
    "            if data[i-1,j-1] == 'S' and data[i+1,j+1] == 'M' and data[i-1,j+1] == 'M' and data[i+1,j-1] == 'S':\n",
    "                total += 1\n",
    "            if data[i-1,j-1] == 'M' and data[i+1,j+1] == 'S' and data[i-1,j+1] == 'S' and data[i+1,j-1] == 'M':\n",
    "                total += 1\n",
    "            if data[i-1,j-1] == 'S' and data[i+1,j+1] == 'M' and data[i-1,j+1] == 'S' and data[i+1,j-1] == 'M':\n",
    "                total += 1\n",
    "total"
   ]
  }
 ],
 "metadata": {
  "kernelspec": {
   "display_name": ".venv",
   "language": "python",
   "name": "python3"
  },
  "language_info": {
   "codemirror_mode": {
    "name": "ipython",
    "version": 3
   },
   "file_extension": ".py",
   "mimetype": "text/x-python",
   "name": "python",
   "nbconvert_exporter": "python",
   "pygments_lexer": "ipython3",
   "version": "3.12.6"
  }
 },
 "nbformat": 4,
 "nbformat_minor": 2
}
