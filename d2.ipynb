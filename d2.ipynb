{
 "cells": [
  {
   "cell_type": "code",
   "execution_count": 1,
   "metadata": {},
   "outputs": [],
   "source": [
    "with open(\"data/d2.txt\") as f:\n",
    "    lines = f.readlines()\n",
    "data = list(map(lambda x: x[:-1].split(\" \"), lines))\n",
    "data = [list(map(lambda x: int(x), line)) for line in data]"
   ]
  },
  {
   "cell_type": "code",
   "execution_count": 2,
   "metadata": {},
   "outputs": [],
   "source": [
    "from itertools import pairwise\n",
    "from collections import Counter\n",
    "def is_safe(report):\n",
    "    pente = \"increase\" if report[1] > report[0] else \"decrease\"\n",
    "\n",
    "    for i, j in pairwise(report):\n",
    "        if pente == \"increase\":\n",
    "            if j <= i: return False\n",
    "            if j - i > 3: return False\n",
    "        if pente == \"decrease\":\n",
    "            if i <= j: return False\n",
    "            if i - j > 3: return False\n",
    "    return True"
   ]
  },
  {
   "cell_type": "code",
   "execution_count": 3,
   "metadata": {},
   "outputs": [
    {
     "data": {
      "text/plain": [
       "510"
      ]
     },
     "execution_count": 3,
     "metadata": {},
     "output_type": "execute_result"
    }
   ],
   "source": [
    "x = [is_safe(report) for report in data]\n",
    "Counter(x)[True]"
   ]
  },
  {
   "cell_type": "code",
   "execution_count": 4,
   "metadata": {},
   "outputs": [],
   "source": [
    "def is_Dampener_safe(report):\n",
    "\n",
    "    for i in range(len(report)):\n",
    "        r = report.copy()\n",
    "        r.pop(i)\n",
    "        if is_safe(r):\n",
    "            return True\n",
    "    return False"
   ]
  },
  {
   "cell_type": "code",
   "execution_count": 5,
   "metadata": {},
   "outputs": [
    {
     "data": {
      "text/plain": [
       "553"
      ]
     },
     "execution_count": 5,
     "metadata": {},
     "output_type": "execute_result"
    }
   ],
   "source": [
    "x = [is_Dampener_safe(report) for report in data]\n",
    "Counter(x)[True]"
   ]
  }
 ],
 "metadata": {
  "kernelspec": {
   "display_name": ".venv",
   "language": "python",
   "name": "python3"
  },
  "language_info": {
   "codemirror_mode": {
    "name": "ipython",
    "version": 3
   },
   "file_extension": ".py",
   "mimetype": "text/x-python",
   "name": "python",
   "nbconvert_exporter": "python",
   "pygments_lexer": "ipython3",
   "version": "3.12.6"
  }
 },
 "nbformat": 4,
 "nbformat_minor": 2
}
