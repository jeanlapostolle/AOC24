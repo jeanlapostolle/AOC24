{
 "cells": [
  {
   "cell_type": "code",
   "execution_count": 1,
   "metadata": {},
   "outputs": [],
   "source": [
    "with open(\"data/d3.txt\") as f:\n",
    "    lines = f.readlines()\n",
    "    data = lines[0]"
   ]
  },
  {
   "cell_type": "code",
   "execution_count": 2,
   "metadata": {},
   "outputs": [],
   "source": [
    "import re\n",
    "\n",
    "\n",
    "res = 0\n",
    "for data in lines:\n",
    "    x = re.findall(r\"mul\\(\\d+,\\d+\\)\", data)\n",
    "    for multiplication in x:\n",
    "        factors = re.findall(r\"\\d+\", multiplication)\n",
    "        res += int(factors[0])*int(factors[1])"
   ]
  },
  {
   "cell_type": "code",
   "execution_count": 3,
   "metadata": {},
   "outputs": [
    {
     "data": {
      "text/plain": [
       "175615763"
      ]
     },
     "execution_count": 3,
     "metadata": {},
     "output_type": "execute_result"
    }
   ],
   "source": [
    "res"
   ]
  },
  {
   "cell_type": "code",
   "execution_count": 4,
   "metadata": {},
   "outputs": [],
   "source": [
    "enable = True\n",
    "\n",
    "res = 0\n",
    "for data in lines:\n",
    "    x = re.findall(r\"mul\\(\\d+,\\d+\\)|do\\(\\)|don't\\(\\)\", data)\n",
    "    for instruction in x:\n",
    "        if instruction == \"do()\":\n",
    "            enable = True\n",
    "        elif instruction == \"don't()\":\n",
    "            enable = False\n",
    "        else:\n",
    "            if enable:\n",
    "                factors = re.findall(r\"\\d+\", instruction)\n",
    "                res += int(factors[0])*int(factors[1])"
   ]
  },
  {
   "cell_type": "code",
   "execution_count": 5,
   "metadata": {},
   "outputs": [
    {
     "data": {
      "text/plain": [
       "74361272"
      ]
     },
     "execution_count": 5,
     "metadata": {},
     "output_type": "execute_result"
    }
   ],
   "source": [
    "res"
   ]
  }
 ],
 "metadata": {
  "kernelspec": {
   "display_name": ".venv",
   "language": "python",
   "name": "python3"
  },
  "language_info": {
   "codemirror_mode": {
    "name": "ipython",
    "version": 3
   },
   "file_extension": ".py",
   "mimetype": "text/x-python",
   "name": "python",
   "nbconvert_exporter": "python",
   "pygments_lexer": "ipython3",
   "version": "3.12.6"
  }
 },
 "nbformat": 4,
 "nbformat_minor": 2
}
