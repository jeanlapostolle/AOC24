{
 "cells": [
  {
   "cell_type": "code",
   "execution_count": 1,
   "metadata": {},
   "outputs": [],
   "source": [
    "import re\n",
    "\n",
    "with open(\"data/d5.txt\") as f:\n",
    "    data = f.readlines()"
   ]
  },
  {
   "cell_type": "code",
   "execution_count": 2,
   "metadata": {},
   "outputs": [],
   "source": [
    "sep = data.index('\\n')\n",
    "d_rules = data[:sep]\n",
    "d_updates = data[sep+1:]\n",
    "\n",
    "rules = []\n",
    "\n",
    "for rule in d_rules:\n",
    "    a, b = re.findall(r\"\\d+\", rule)\n",
    "    rules.append((a, b))\n",
    "\n",
    "updates = [re.findall(r\"\\d+\", update) for update in d_updates]"
   ]
  },
  {
   "cell_type": "code",
   "execution_count": 3,
   "metadata": {},
   "outputs": [
    {
     "data": {
      "text/plain": [
       "7198"
      ]
     },
     "execution_count": 3,
     "metadata": {},
     "output_type": "execute_result"
    }
   ],
   "source": [
    "def is_rules_valid_in(update, rules):\n",
    "    for a, b in rules:\n",
    "        if a in update and b in update and update.index(b) <= update.index(a):\n",
    "            return False\n",
    "    return True\n",
    "\n",
    "sum([int(update[len(update)//2]) for update in updates if is_rules_valid_in(update, rules)])"
   ]
  },
  {
   "cell_type": "code",
   "execution_count": 4,
   "metadata": {},
   "outputs": [
    {
     "data": {
      "text/plain": [
       "4230"
      ]
     },
     "execution_count": 4,
     "metadata": {},
     "output_type": "execute_result"
    }
   ],
   "source": [
    "def order(update, rules):\n",
    "    while not is_rules_valid_in(update, rules):\n",
    "        for a, b in rules:\n",
    "            if a in update and b in update:\n",
    "                id_a = update.index(a)\n",
    "                id_b = update.index(b)\n",
    "                if id_b <= id_a:\n",
    "                    update[id_b] = a\n",
    "                    update[id_a] = b\n",
    "    return update\n",
    "\n",
    "sum([int(order(update, rules)[len(update)//2]) for update in updates if not is_rules_valid_in(update, rules)])"
   ]
  }
 ],
 "metadata": {
  "kernelspec": {
   "display_name": ".venv",
   "language": "python",
   "name": "python3"
  },
  "language_info": {
   "codemirror_mode": {
    "name": "ipython",
    "version": 3
   },
   "file_extension": ".py",
   "mimetype": "text/x-python",
   "name": "python",
   "nbconvert_exporter": "python",
   "pygments_lexer": "ipython3",
   "version": "3.12.6"
  }
 },
 "nbformat": 4,
 "nbformat_minor": 2
}
