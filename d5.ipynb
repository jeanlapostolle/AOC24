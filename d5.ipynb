{
 "cells": [
  {
   "cell_type": "code",
   "execution_count": 11,
   "metadata": {},
   "outputs": [],
   "source": [
    "import numpy as np\n",
    "import re\n",
    "\n",
    "with open(\"data/tests/d5.txt\") as f:\n",
    "    data = f.readlines()"
   ]
  },
  {
   "cell_type": "code",
   "execution_count": 21,
   "metadata": {},
   "outputs": [],
   "source": [
    "sep = data.index('\\n')\n",
    "d_rules = data[:sep]\n",
    "d_updates = data[sep+1:]\n",
    "\n",
    "rules = []\n",
    "\n",
    "for rule in d_rules:\n",
    "    a, b = re.findall(r\"\\d+\", rule)\n",
    "    rules.append((a, b))\n",
    "\n",
    "updates = [re.findall(r\"\\d+\", update) for update in d_updates]"
   ]
  },
  {
   "cell_type": "code",
   "execution_count": 26,
   "metadata": {},
   "outputs": [
    {
     "name": "stdout",
     "output_type": "stream",
     "text": [
      "True\n",
      "True\n",
      "True\n",
      "False\n",
      "False\n",
      "False\n"
     ]
    }
   ],
   "source": [
    "update = updates[0]\n",
    "\n",
    "def is_rules_valid_in(update, rules):\n",
    "    for a, b in rules:\n",
    "        if a in update and b in update and update.index(b) <= update.index(a):\n",
    "            return False\n",
    "    return True\n",
    "\n",
    "for update in updates:\n",
    "    print(is_rules_valid_in(update, rules))"
   ]
  }
 ],
 "metadata": {
  "kernelspec": {
   "display_name": ".venv",
   "language": "python",
   "name": "python3"
  },
  "language_info": {
   "codemirror_mode": {
    "name": "ipython",
    "version": 3
   },
   "file_extension": ".py",
   "mimetype": "text/x-python",
   "name": "python",
   "nbconvert_exporter": "python",
   "pygments_lexer": "ipython3",
   "version": "3.12.6"
  }
 },
 "nbformat": 4,
 "nbformat_minor": 2
}
